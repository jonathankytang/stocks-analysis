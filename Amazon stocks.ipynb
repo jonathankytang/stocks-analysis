{
 "cells": [
  {
   "cell_type": "code",
   "execution_count": 1,
   "metadata": {},
   "outputs": [],
   "source": [
    "import matplotlib.pyplot as plt\n",
    "import pandas as pd\n",
    "from pandas_datareader import data\n",
    "import numpy as np\n",
    "%matplotlib inline\n",
    "\n",
    "from statsmodels.api import tsa\n",
    "from dateutil.parser import parse\n",
    "\n",
    "from sklearn.linear_model import LinearRegression\n",
    "from sklearn.metrics import mean_absolute_error"
   ]
  },
  {
   "cell_type": "code",
   "execution_count": 2,
   "metadata": {},
   "outputs": [
    {
     "data": {
      "text/html": [
       "<div>\n",
       "<style scoped>\n",
       "    .dataframe tbody tr th:only-of-type {\n",
       "        vertical-align: middle;\n",
       "    }\n",
       "\n",
       "    .dataframe tbody tr th {\n",
       "        vertical-align: top;\n",
       "    }\n",
       "\n",
       "    .dataframe thead th {\n",
       "        text-align: right;\n",
       "    }\n",
       "</style>\n",
       "<table border=\"1\" class=\"dataframe\">\n",
       "  <thead>\n",
       "    <tr style=\"text-align: right;\">\n",
       "      <th></th>\n",
       "      <th>High</th>\n",
       "      <th>Low</th>\n",
       "      <th>Open</th>\n",
       "      <th>Close</th>\n",
       "      <th>Volume</th>\n",
       "      <th>Adj Close</th>\n",
       "    </tr>\n",
       "    <tr>\n",
       "      <th>Date</th>\n",
       "      <th></th>\n",
       "      <th></th>\n",
       "      <th></th>\n",
       "      <th></th>\n",
       "      <th></th>\n",
       "      <th></th>\n",
       "    </tr>\n",
       "  </thead>\n",
       "  <tbody>\n",
       "    <tr>\n",
       "      <th>2015-01-02</th>\n",
       "      <td>314.750000</td>\n",
       "      <td>306.959991</td>\n",
       "      <td>312.579987</td>\n",
       "      <td>308.519989</td>\n",
       "      <td>2783200</td>\n",
       "      <td>308.519989</td>\n",
       "    </tr>\n",
       "    <tr>\n",
       "      <th>2015-01-05</th>\n",
       "      <td>308.380005</td>\n",
       "      <td>300.850006</td>\n",
       "      <td>307.010010</td>\n",
       "      <td>302.190002</td>\n",
       "      <td>2774200</td>\n",
       "      <td>302.190002</td>\n",
       "    </tr>\n",
       "    <tr>\n",
       "      <th>2015-01-06</th>\n",
       "      <td>303.000000</td>\n",
       "      <td>292.380005</td>\n",
       "      <td>302.239990</td>\n",
       "      <td>295.290009</td>\n",
       "      <td>3519000</td>\n",
       "      <td>295.290009</td>\n",
       "    </tr>\n",
       "    <tr>\n",
       "      <th>2015-01-07</th>\n",
       "      <td>301.279999</td>\n",
       "      <td>295.329987</td>\n",
       "      <td>297.500000</td>\n",
       "      <td>298.420013</td>\n",
       "      <td>2640300</td>\n",
       "      <td>298.420013</td>\n",
       "    </tr>\n",
       "    <tr>\n",
       "      <th>2015-01-08</th>\n",
       "      <td>303.140015</td>\n",
       "      <td>296.109985</td>\n",
       "      <td>300.320007</td>\n",
       "      <td>300.459991</td>\n",
       "      <td>3088400</td>\n",
       "      <td>300.459991</td>\n",
       "    </tr>\n",
       "  </tbody>\n",
       "</table>\n",
       "</div>"
      ],
      "text/plain": [
       "                  High         Low        Open       Close   Volume  \\\n",
       "Date                                                                  \n",
       "2015-01-02  314.750000  306.959991  312.579987  308.519989  2783200   \n",
       "2015-01-05  308.380005  300.850006  307.010010  302.190002  2774200   \n",
       "2015-01-06  303.000000  292.380005  302.239990  295.290009  3519000   \n",
       "2015-01-07  301.279999  295.329987  297.500000  298.420013  2640300   \n",
       "2015-01-08  303.140015  296.109985  300.320007  300.459991  3088400   \n",
       "\n",
       "             Adj Close  \n",
       "Date                    \n",
       "2015-01-02  308.519989  \n",
       "2015-01-05  302.190002  \n",
       "2015-01-06  295.290009  \n",
       "2015-01-07  298.420013  \n",
       "2015-01-08  300.459991  "
      ]
     },
     "execution_count": 2,
     "metadata": {},
     "output_type": "execute_result"
    }
   ],
   "source": [
    "amzn = data.DataReader('AMZN', start='2015', end='2019',\n",
    "                      data_source='yahoo')\n",
    "\n",
    "amzn.head()"
   ]
  },
  {
   "cell_type": "code",
   "execution_count": 3,
   "metadata": {},
   "outputs": [
    {
     "data": {
      "text/html": [
       "<div>\n",
       "<style scoped>\n",
       "    .dataframe tbody tr th:only-of-type {\n",
       "        vertical-align: middle;\n",
       "    }\n",
       "\n",
       "    .dataframe tbody tr th {\n",
       "        vertical-align: top;\n",
       "    }\n",
       "\n",
       "    .dataframe thead th {\n",
       "        text-align: right;\n",
       "    }\n",
       "</style>\n",
       "<table border=\"1\" class=\"dataframe\">\n",
       "  <thead>\n",
       "    <tr style=\"text-align: right;\">\n",
       "      <th></th>\n",
       "      <th>High</th>\n",
       "      <th>Low</th>\n",
       "      <th>Open</th>\n",
       "      <th>Close</th>\n",
       "      <th>Volume</th>\n",
       "      <th>Adj Close</th>\n",
       "    </tr>\n",
       "    <tr>\n",
       "      <th>Date</th>\n",
       "      <th></th>\n",
       "      <th></th>\n",
       "      <th></th>\n",
       "      <th></th>\n",
       "      <th></th>\n",
       "      <th></th>\n",
       "    </tr>\n",
       "  </thead>\n",
       "  <tbody>\n",
       "    <tr>\n",
       "      <th>2015-01-02</th>\n",
       "      <td>528.362366</td>\n",
       "      <td>521.231628</td>\n",
       "      <td>526.114746</td>\n",
       "      <td>521.937744</td>\n",
       "      <td>1447600.0</td>\n",
       "      <td>521.937744</td>\n",
       "    </tr>\n",
       "    <tr>\n",
       "      <th>2015-01-05</th>\n",
       "      <td>521.460388</td>\n",
       "      <td>510.252045</td>\n",
       "      <td>520.396240</td>\n",
       "      <td>511.057617</td>\n",
       "      <td>2059800.0</td>\n",
       "      <td>511.057617</td>\n",
       "    </tr>\n",
       "    <tr>\n",
       "      <th>2015-01-06</th>\n",
       "      <td>513.350037</td>\n",
       "      <td>498.307800</td>\n",
       "      <td>512.181458</td>\n",
       "      <td>499.212799</td>\n",
       "      <td>2899900.0</td>\n",
       "      <td>499.212799</td>\n",
       "    </tr>\n",
       "    <tr>\n",
       "      <th>2015-01-07</th>\n",
       "      <td>504.467896</td>\n",
       "      <td>496.915436</td>\n",
       "      <td>504.225220</td>\n",
       "      <td>498.357513</td>\n",
       "      <td>2065100.0</td>\n",
       "      <td>498.357513</td>\n",
       "    </tr>\n",
       "    <tr>\n",
       "      <th>2015-01-08</th>\n",
       "      <td>500.724487</td>\n",
       "      <td>488.312805</td>\n",
       "      <td>495.264526</td>\n",
       "      <td>499.928864</td>\n",
       "      <td>3353600.0</td>\n",
       "      <td>499.928864</td>\n",
       "    </tr>\n",
       "  </tbody>\n",
       "</table>\n",
       "</div>"
      ],
      "text/plain": [
       "                  High         Low        Open       Close     Volume  \\\n",
       "Date                                                                    \n",
       "2015-01-02  528.362366  521.231628  526.114746  521.937744  1447600.0   \n",
       "2015-01-05  521.460388  510.252045  520.396240  511.057617  2059800.0   \n",
       "2015-01-06  513.350037  498.307800  512.181458  499.212799  2899900.0   \n",
       "2015-01-07  504.467896  496.915436  504.225220  498.357513  2065100.0   \n",
       "2015-01-08  500.724487  488.312805  495.264526  499.928864  3353600.0   \n",
       "\n",
       "             Adj Close  \n",
       "Date                    \n",
       "2015-01-02  521.937744  \n",
       "2015-01-05  511.057617  \n",
       "2015-01-06  499.212799  \n",
       "2015-01-07  498.357513  \n",
       "2015-01-08  499.928864  "
      ]
     },
     "execution_count": 3,
     "metadata": {},
     "output_type": "execute_result"
    }
   ],
   "source": [
    "goog = data.DataReader('GOOG', start='2015', end='2019',\n",
    "                      data_source='yahoo')\n",
    "\n",
    "goog.head()"
   ]
  },
  {
   "cell_type": "code",
   "execution_count": 4,
   "metadata": {},
   "outputs": [
    {
     "data": {
      "text/plain": [
       "<matplotlib.legend.Legend at 0x1c1f3eebe0>"
      ]
     },
     "execution_count": 4,
     "metadata": {},
     "output_type": "execute_result"
    },
    {
     "data": {
      "image/png": "[encoded data removed]",
      "text/plain": [
       "<Figure size 432x288 with 1 Axes>"
      ]
     },
     "metadata": {
      "needs_background": "light"
     },
     "output_type": "display_data"
    }
   ],
   "source": [
    "amzn['Close'].plot(label='amzn')\n",
    "goog['Close'].plot(label='goog')\n",
    "plt.legend()"
   ]
  },
  {
   "cell_type": "code",
   "execution_count": 5,
   "metadata": {},
   "outputs": [
    {
     "name": "stdout",
     "output_type": "stream",
     "text": [
      "Amazon highest 2018 close: 2039.510009765625 on 2018-09-04 00:00:00\n"
     ]
    },
    {
     "name": "stderr",
     "output_type": "stream",
     "text": [
      "/anaconda3/lib/python3.6/site-packages/ipykernel_launcher.py:2: FutureWarning: 'argmax' is deprecated, use 'idxmax' instead. The behavior of 'argmax'\n",
      "will be corrected to return the positional maximum in the future.\n",
      "Use 'series.values.argmax' to get the position of the maximum now.\n",
      "  \n"
     ]
    }
   ],
   "source": [
    "amzn_max_val = amzn['Close'].max()\n",
    "print(\"Amazon highest 2018 close: {} on {}\".format(amzn_max_val, amzn['Close']['2018'].argmax()))"
   ]
  },
  {
   "cell_type": "code",
   "execution_count": 6,
   "metadata": {},
   "outputs": [
    {
     "name": "stdout",
     "output_type": "stream",
     "text": [
      "Google highest 2018 close: 1268.3299560546875 on 2018-07-26 00:00:00\n"
     ]
    },
    {
     "name": "stderr",
     "output_type": "stream",
     "text": [
      "/anaconda3/lib/python3.6/site-packages/ipykernel_launcher.py:2: FutureWarning: 'argmax' is deprecated, use 'idxmax' instead. The behavior of 'argmax'\n",
      "will be corrected to return the positional maximum in the future.\n",
      "Use 'series.values.argmax' to get the position of the maximum now.\n",
      "  \n"
     ]
    }
   ],
   "source": [
    "goog_max_val = goog['Close'].max()\n",
    "print(\"Google highest 2018 close: {} on {}\".format(goog_max_val, goog['Close']['2018'].argmax()))"
   ]
  },
  {
   "cell_type": "code",
   "execution_count": 7,
   "metadata": {},
   "outputs": [
    {
     "name": "stderr",
     "output_type": "stream",
     "text": [
      "/anaconda3/lib/python3.6/site-packages/statsmodels/tsa/base/tsa_model.py:225: ValueWarning: A date index has been provided, but it has no associated frequency information and so will be ignored when e.g. forecasting.\n",
      "  ' ignored when e.g. forecasting.', ValueWarning)\n",
      "/anaconda3/lib/python3.6/site-packages/statsmodels/base/model.py:488: HessianInversionWarning: Inverting hessian failed, no bse or cov_params available\n",
      "  'available', HessianInversionWarning)\n"
     ]
    },
    {
     "data": {
      "image/png": "[encoded data removed]",
      "text/plain": [
       "<Figure size 864x288 with 1 Axes>"
      ]
     },
     "metadata": {
      "needs_background": "light"
     },
     "output_type": "display_data"
    }
   ],
   "source": [
    "amzn_close = amzn['Close']\n",
    "arma = tsa.ARMA(amzn_close, order=(3,3))\n",
    "arma_result = arma.fit()\n",
    "prediction = arma_result.predict(start=3)\n",
    "\n",
    "plt.figure(figsize=(12,4))\n",
    "plt.plot(amzn_close, '-o', label='true')\n",
    "plt.plot(prediction, '-o', label='model')\n",
    "plt.legend();"
   ]
  },
  {
   "cell_type": "code",
   "execution_count": 8,
   "metadata": {},
   "outputs": [
    {
     "name": "stdout",
     "output_type": "stream",
     "text": [
      "MAE = 11.511\n"
     ]
    }
   ],
   "source": [
    "print('MAE = {0:.3f}'.format(mean_absolute_error(amzn_close[3:], prediction)))"
   ]
  },
  {
   "cell_type": "code",
   "execution_count": null,
   "metadata": {},
   "outputs": [],
   "source": []
  }
 ],
 "metadata": {
  "kernelspec": {
   "display_name": "virtualenv",
   "language": "python",
   "name": "virtualenv"
  },
  "language_info": {
   "codemirror_mode": {
    "name": "ipython",
    "version": 3
   },
   "file_extension": ".py",
   "mimetype": "text/x-python",
   "name": "python",
   "nbconvert_exporter": "python",
   "pygments_lexer": "ipython3",
   "version": "3.6.6"
  }
 },
 "nbformat": 4,
 "nbformat_minor": 2
}
